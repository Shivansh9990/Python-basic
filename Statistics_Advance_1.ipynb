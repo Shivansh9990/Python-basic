{
  "nbformat": 4,
  "nbformat_minor": 0,
  "metadata": {
    "colab": {
      "provenance": []
    },
    "kernelspec": {
      "name": "python3",
      "display_name": "Python 3"
    },
    "language_info": {
      "name": "python"
    }
  },
  "cells": [
    {
      "cell_type": "markdown",
      "source": [
        "1. What is a random variable in probability theory?\n",
        "A random variable is a numerical value determined by the result of a random experiment.\n",
        "Example: If two coins are tossed, let\n",
        "X\n",
        "X be the number of heads.\n",
        "X\n",
        "X can be 0, 1, or 2, depending on the outcome.\n",
        "\n",
        "2. Types of random variables\n",
        "Discrete random variable: Takes on countable values, e.g., number of goals in a soccer match.\n",
        "\n",
        "Continuous random variable: Can take any value within a range, e.g., the exact heights of people in a group.\n",
        "\n",
        "3. Difference: discrete vs continuous distributions\n",
        "Discrete: Probability is assigned to each possible value; for example, the outcome of rolling a die (1 to 6).\n",
        "\n",
        "Continuous: Probability is assigned over intervals; for example, the probability of a person's height being between 160 and 170 cm.\n",
        "\n",
        "4. What is a binomial distribution, and how is it used?\n",
        "A binomial distribution describes the number of successes in a series of\n",
        "n\n",
        "n independent yes/no experiments, each with the same probability of success.\n",
        "Example: Tossing a coin 10 times and counting the number of heads; 'heads' is the 'success' and follows a binomial distribution with\n",
        "\n",
        "5. What is the standard normal distribution, and why is it important?\n",
        "The standard normal distribution is a bell-shaped curve with mean 0 and standard deviation 1.\n",
        "Example: Z-scores, which standardize values for comparison (e.g., student test scores across different exams), are calculated using the standard normal distribution.\n",
        "\n",
        "6. Central Limit Theorem (CLT): concept and importance\n",
        "CLT says averages from a large sample of independent random variables are approximately normal, regardless of the original distribution.\n",
        "Example: Calculating the average weight from multiple samples of people; these averages will eventually form a normal distribution as sample size increases.\n",
        "\n",
        "7. Significance of confidence intervals\n",
        "Confidence intervals estimate how sure we are that a population characteristic is within a calculated range, based on sample data.\n",
        "Example: A survey finds the average salary is $50,000; a 95% confidence interval of [$47,000–$53,000] suggests high probability the actual mean falls in this range.\n",
        "\n",
        "8. Expected value in a probability distribution\n",
        "Expected value is the long-term average outcome of an experiment.\n",
        "Example: The expected value of a single dice roll is\n",
        "(\n",
        "1\n",
        "+\n",
        "2\n",
        "+\n",
        "3\n",
        "+\n",
        "4\n",
        "+\n",
        "5\n",
        "+\n",
        "6\n",
        ")\n",
        "/\n",
        "6\n",
        "=\n",
        "3.5\n",
        "(1+2+3+4+5+6)/6=3.5."
      ],
      "metadata": {
        "id": "xT3AyZBj_lpj"
      }
    },
    {
      "cell_type": "code",
      "source": [
        "#9. Python program: normal distribution, mean, stddev, histogram\n",
        "\n",
        "import numpy as np\n",
        "import matplotlib.pyplot as plt\n",
        "\n",
        "data = np.random.normal(50, 5, 1000)\n",
        "mean = np.mean(data)\n",
        "std_dev = np.std(data)\n",
        "\n",
        "print(\"Mean:\", mean)\n",
        "print(\"Standard Deviation:\", std_dev)\n",
        "\n",
        "plt.hist(data, bins=30, edgecolor='black')\n",
        "plt.title('Histogram of Normal Distribution')\n",
        "plt.xlabel('Value')\n",
        "plt.ylabel('Frequency')\n",
        "plt.show()"
      ],
      "metadata": {
        "colab": {
          "base_uri": "https://localhost:8080/",
          "height": 507
        },
        "id": "n0G62VX__pB_",
        "outputId": "caae928e-3778-48ff-d22d-5d10002802dd"
      },
      "execution_count": 1,
      "outputs": [
        {
          "output_type": "stream",
          "name": "stdout",
          "text": [
            "Mean: 50.021615594627114\n",
            "Standard Deviation: 4.956061706624283\n"
          ]
        },
        {
          "output_type": "display_data",
          "data": {
            "text/plain": [
              "<Figure size 640x480 with 1 Axes>"
            ],
            "image/png": "[encoded data removed]"
          },
          "metadata": {}
        }
      ]
    },
    {
      "cell_type": "code",
      "source": [
        "#10. Applying CLT and confidence interval to sales data\n",
        "\n",
        "import numpy as np\n",
        "import scipy.stats as stats\n",
        "\n",
        "sales = np.array([220, 245, 210, 265, 230, 250, 260, 275, 240, 255, 235, 260, 245, 250, 225, 270, 265, 255, 250, 260])\n",
        "mean_sales = np.mean(sales)\n",
        "std_sales = np.std(sales, ddof=1)\n",
        "n = len(sales)\n",
        "conf_interval = stats.t.interval(0.95, df=n-1, loc=mean_sales, scale=std_sales/np.sqrt(n))\n",
        "\n",
        "print(\"Mean sales:\", mean_sales)\n",
        "print(\"95% confidence interval:\", conf_interval)"
      ],
      "metadata": {
        "colab": {
          "base_uri": "https://localhost:8080/"
        },
        "id": "J-8hC7RIAK_N",
        "outputId": "fb3cefa5-5537-492b-9aa1-aa6b4a2ad0f1"
      },
      "execution_count": 2,
      "outputs": [
        {
          "output_type": "stream",
          "name": "stdout",
          "text": [
            "Mean sales: 248.25\n",
            "95% confidence interval: (np.float64(240.16957025147158), np.float64(256.3304297485284))\n"
          ]
        }
      ]
    }
  ]
}