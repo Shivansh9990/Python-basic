{
  "nbformat": 4,
  "nbformat_minor": 0,
  "metadata": {
    "colab": {
      "provenance": []
    },
    "kernelspec": {
      "name": "python3",
      "display_name": "Python 3"
    },
    "language_info": {
      "name": "python"
    }
  },
  "cells": [
    {
      "cell_type": "markdown",
      "metadata": {
        "id": "49cc6283"
      },
      "source": [
        "Question 1: Descriptive vs Inferential Statistics\n",
        "Descriptive statistics summarize features of a dataset, such as calculating the mean, median, and mode. For example, finding the average age in a classroom is descriptive statistics. Inferential statistics uses sample data to make predictions or generalizations about a larger population, such as estimating the average age of all students in a city based on a classroom sample.\n",
        "\n",
        "Question 2: Sampling, Random vs Stratified\n",
        "Sampling is the process of selecting a subset of data from a population for analysis. Random sampling gives every member an equal chance of selection, ensuring unbiased data. Stratified sampling divides the population into subgroups and samples from each one, increasing accuracy if groups differ (e.g., sampling both boys and girls from a school).\n",
        "\n",
        "Question 3: Mean, Median, and Mode\n",
        "Mean: Arithmetic average, central value for evenly distributed data.\n",
        "\n",
        "Median: Middle value in sorted data, useful for skewed data.\n",
        "\n",
        "Mode: Most frequent value, shows commonality in the dataset.\n",
        "\n",
        "Each measure highlights different aspects of central tendency, helping make sense of data distributions.\n",
        "\n",
        "Question 4: Skewness and Kurtosis\n",
        "Skewness describes asymmetry in the data's distribution. Positive skew implies most values are low, with a few high outliers extending the distribution’s right tail. Kurtosis measures the “tailedness”; high kurtosis means more extreme outliers"
      ]
    },
    {
      "cell_type": "code",
      "source": [
        "#Question 5: Python Program for Mean, Median, Mode\n",
        "\n",
        "import statistics\n",
        "\n",
        "numbers = [12, 15, 12, 18, 19, 12, 20, 22, 19, 19, 24, 24, 24, 26, 28]\n",
        "mean = statistics.mean(numbers)\n",
        "median = statistics.median(numbers)\n",
        "mode = statistics.mode(numbers)\n",
        "\n",
        "print(\"Mean:\", mean)\n",
        "print(\"Median:\", median)\n",
        "print(\"Mode:\", mode)"
      ],
      "metadata": {
        "colab": {
          "base_uri": "https://localhost:8080/"
        },
        "id": "C7f1EjrK990j",
        "outputId": "b7729ff8-3cf7-49cf-971a-0db64e278ae5"
      },
      "execution_count": 1,
      "outputs": [
        {
          "output_type": "stream",
          "name": "stdout",
          "text": [
            "Mean: 19.6\n",
            "Median: 19\n",
            "Mode: 12\n"
          ]
        }
      ]
    },
    {
      "cell_type": "code",
      "source": [
        "#Question 6: Python Covariance and Correlation Code\n",
        "\n",
        "import numpy as np\n",
        "\n",
        "listx = [10, 20, 30, 40, 50]\n",
        "listy = [15, 25, 35, 45, 60]\n",
        "\n",
        "covariance = np.cov(listx, listy, bias=True)[0][1]\n",
        "correlation = np.corrcoef(listx, listy)[0][1]\n",
        "\n",
        "print(\"Covariance:\", covariance)\n",
        "print(\"Correlation:\", correlation)"
      ],
      "metadata": {
        "colab": {
          "base_uri": "https://localhost:8080/"
        },
        "id": "emx7-1RA-B5l",
        "outputId": "ddc77e8e-2cab-4d59-8d20-ff0a01f52ae3"
      },
      "execution_count": 2,
      "outputs": [
        {
          "output_type": "stream",
          "name": "stdout",
          "text": [
            "Covariance: 220.0\n",
            "Correlation: 0.995893206467704\n"
          ]
        }
      ]
    },
    {
      "cell_type": "code",
      "source": [
        "#Question 7: Python Boxplot and Outliers\n",
        "\n",
        "import matplotlib.pyplot as plt\n",
        "\n",
        "data = [12, 14, 14, 15, 18, 19, 19, 21, 22, 22, 23, 23, 24, 26, 29, 35]\n",
        "plt.boxplot(data)\n",
        "plt.title('Boxplot of Data')\n",
        "plt.show()"
      ],
      "metadata": {
        "colab": {
          "base_uri": "https://localhost:8080/",
          "height": 452
        },
        "id": "iYo0dyoG-JMI",
        "outputId": "b2472c15-9b07-40e4-edf1-eaf8965dcf46"
      },
      "execution_count": 3,
      "outputs": [
        {
          "output_type": "display_data",
          "data": {
            "text/plain": [
              "<Figure size 640x480 with 1 Axes>"
            ],
            "image/png": "[encoded data removed]"
          },
          "metadata": {}
        }
      ]
    },
    {
      "cell_type": "code",
      "source": [
        "#Question 8: Covariance and Correlation for Advertising Spend and Daily Sales\n",
        "\n",
        "\n",
        "advertisingspend = [200, 250, 300, 400, 500]\n",
        "dailysales = [2200, 2450, 2750, 3200, 4000]\n",
        "\n",
        "covariance = np.cov(advertisingspend, dailysales, bias=True)[0][1]\n",
        "correlation = np.corrcoef(advertisingspend, dailysales)[0][1]\n",
        "\n",
        "print(\"Covariance:\", covariance)\n",
        "print(\"Correlation:\", correlation)"
      ],
      "metadata": {
        "colab": {
          "base_uri": "https://localhost:8080/"
        },
        "id": "yJD5RZaJ-N7h",
        "outputId": "0a4e0860-e899-4a67-ce1d-bddc43552e79"
      },
      "execution_count": 6,
      "outputs": [
        {
          "output_type": "stream",
          "name": "stdout",
          "text": [
            "Covariance: 67900.0\n",
            "Correlation: 0.9935824101653329\n"
          ]
        }
      ]
    },
    {
      "cell_type": "code",
      "source": [
        "#Question 9: Survey Data—Summary Statistics and Visualization\n",
        "\n",
        "\n",
        "import matplotlib.pyplot as plt\n",
        "\n",
        "surveyscores = [7, 8, 5, 9, 6, 7, 8, 9, 10, 4, 7, 6, 9, 8, 7]\n",
        "\n",
        "mean = np.mean(surveyscores)\n",
        "std_dev = np.std(surveyscores)\n",
        "\n",
        "plt.hist(surveyscores, bins=6)\n",
        "plt.title('Histogram of Survey Scores')\n",
        "plt.xlabel('Score')\n",
        "plt.ylabel('Frequency')\n",
        "plt.show()\n",
        "\n",
        "print(\"Mean:\", mean)\n",
        "print(\"Std Dev:\", std_dev)"
      ],
      "metadata": {
        "colab": {
          "base_uri": "https://localhost:8080/",
          "height": 507
        },
        "id": "i4zJd0nj-Vv8",
        "outputId": "d2928437-61ed-4b97-fd5a-f8cfd3551cbd"
      },
      "execution_count": 7,
      "outputs": [
        {
          "output_type": "display_data",
          "data": {
            "text/plain": [
              "<Figure size 640x480 with 1 Axes>"
            ],
            "image/png": "[encoded data removed]"
          },
          "metadata": {}
        },
        {
          "output_type": "stream",
          "name": "stdout",
          "text": [
            "Mean: 7.333333333333333\n",
            "Std Dev: 1.577621275493231\n"
          ]
        }
      ]
    }
  ]
}