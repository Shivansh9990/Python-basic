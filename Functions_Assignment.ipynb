{
  "nbformat": 4,
  "nbformat_minor": 0,
  "metadata": {
    "colab": {
      "provenance": [],
      "toc_visible": true
    },
    "kernelspec": {
      "name": "python3",
      "display_name": "Python 3"
    },
    "language_info": {
      "name": "python"
    }
  },
  "cells": [
    {
      "cell_type": "markdown",
      "source": [
        "1. Difference between a Function and a Method in Python\n",
        "\n",
        "Function: A block of reusable code that is not associated with any object. It can be called independently.\n",
        "\n",
        "Example:\n",
        "\n",
        "python\n",
        "def add(a, b):\n",
        "    return a + b\n",
        "Method: A function that is associated with an object (usually a class instance) and called using the dot . syntax.\n",
        "\n",
        "Example:\n",
        "\n",
        "python\n",
        "class Example:\n",
        "    def show(self):\n",
        "        print(\"Hello!\")\n",
        "\n",
        "obj = Example()\n",
        "obj.show()  # 'show' is a method\n",
        "\n",
        "2. Function Arguments and Parameters in Python\n",
        "\n",
        "Parameters are variables in the function definition.\n",
        "Arguments are values passed to the function when calling it.\n",
        "\n",
        "Example:\n",
        "\n",
        "python\n",
        "def greet(name):  # 'name' is a parameter\n",
        "    print(\"Hello\", name)\n",
        "greet(\"Alice\")  # \"Alice\" is an argument\n",
        "\n",
        "3. Different Ways to Define and Call a Function in Python\n",
        "\n",
        "With def:\n",
        "\n",
        "python\n",
        "def func():\n",
        "    pass\n",
        "\n",
        "With lambda (anonymous function):\n",
        "\n",
        "python\n",
        "s = lambda x, y: x + y\n",
        "\n",
        "Calling:\n",
        "\n",
        "python\n",
        "func()\n",
        "s(3, 4)\n",
        "\n",
        "4. Purpose of the return Statement in a Python Function\n",
        "It exits the function and optionally gives back a value to the caller.\n",
        "\n",
        "Example:\n",
        "\n",
        "python\n",
        "def multiply(a, b):\n",
        "    return a * b\n",
        "\n",
        "5. Iterators vs Iterables in Python\n",
        "Iterable: An object capable of returning its members one at a time (e.g., list, tuple, string).\n",
        "\n",
        "Iterator: An object with a state, which remembers where it is during iteration. Created by calling iter() on an iterable, and it implements __next__() and __iter__().\n",
        "\n",
        "Example:\n",
        "\n",
        "python\n",
        "nums = [1,2,3]\n",
        "it = iter(nums)  # 'it' is an iterator, 'nums' is iterable\n",
        "next(it)  # 1\n",
        "\n",
        "6. Generators in Python and How They Are Defined\n",
        "Special iterators defined with a function having yield statements. They generate values one by one.\n",
        "\n",
        "Example:\n",
        "\n",
        "python\n",
        "def countdown(n):\n",
        "    while n > 0:\n",
        "        yield n\n",
        "        n -= 1\n",
        "\n",
        "7. Advantages of Generators over Regular Functions\n",
        "Memory efficient (don’t store all values in memory).\n",
        "\n",
        "Lazy evaluation (generate values on the fly).\n",
        "\n",
        "Useful for infinite sequences or large datasets.\n",
        "\n",
        "Example:\n",
        "\n",
        "python\n",
        "def numbers():\n",
        "    n = 0\n",
        "    while True:\n",
        "        yield n\n",
        "        n += 1\n",
        "\n",
        "8. Lambda Function in Python and Its Typical Use\n",
        "Anonymous, single-expression functions created with the lambda keyword.\n",
        "\n",
        "Used for short, throwaway functions, often as arguments to higher-order functions.\n",
        "\n",
        "Example:\n",
        "\n",
        "python\n",
        "square = lambda x: x * x\n",
        "print(square(5))  # 25\n",
        "\n",
        "9. Purpose and Usage of map() Function in Python\n",
        "Applies a function to all items in an input list (or other iterable) and returns an iterator of results.\n",
        "\n",
        "Example:\n",
        "\n",
        "python\n",
        "nums = [1, 2, 3]\n",
        "squares = list(map(lambda x: x ** 2, nums))\n",
        "\n",
        "10. Difference between map(), reduce(), and filter() in Python\n",
        "Function\tPurpose\tExample\n",
        "\n",
        "map()\tApplies a function to each element\tmap(lambda x: x*2, [1])\n",
        "filter()\tReturns elements for which function returns True\tfilter(lambda x: x%2==0, [1])\n",
        "reduce()\tCumulatively applies a function to elements to reduce them to a single value\treduce(lambda x, y: x+y, [1])\n",
        "\n",
        "11. Reduce Function Internal Mechanism (Sum Operation) Illustration\n",
        "Handwritten illustration required. Here is a textual simulation:\n",
        "\n",
        "attached in the Doc file shared not able to add here."
      ],
      "metadata": {
        "id": "OVHh8Gfo_TVM"
      }
    },
    {
      "cell_type": "code",
      "source": [
        "#1 Function to Return Sum of Even Numbers in a List\n",
        "l=[1,2,3,4,5,6,7,8,9]\n",
        "def even_num(l):\n",
        "    sum=0\n",
        "    for i in l:\n",
        "        if i%2==0:\n",
        "            sum= sum +i\n",
        "    return sum\n",
        "even_num(l)\n"
      ],
      "metadata": {
        "colab": {
          "base_uri": "https://localhost:8080/"
        },
        "id": "cq11AdSNAgBY",
        "outputId": "c5350618-3496-47fd-a0a7-81a152f170e5"
      },
      "execution_count": 1,
      "outputs": [
        {
          "output_type": "execute_result",
          "data": {
            "text/plain": [
              "20"
            ]
          },
          "metadata": {},
          "execution_count": 1
        }
      ]
    },
    {
      "cell_type": "code",
      "source": [
        "#2 Function to Reverse a String\n",
        "s=\"shivansh\"\n",
        "def Reverse(s):\n",
        "  return s[::-1]\n",
        "Reverse(s)\n",
        ""
      ],
      "metadata": {
        "colab": {
          "base_uri": "https://localhost:8080/",
          "height": 36
        },
        "id": "7SX8SAu9EMWC",
        "outputId": "0515309d-e0b9-4a1e-cbdd-ba9feb169826"
      },
      "execution_count": 10,
      "outputs": [
        {
          "output_type": "execute_result",
          "data": {
            "text/plain": [
              "'hsnavihs'"
            ],
            "application/vnd.google.colaboratory.intrinsic+json": {
              "type": "string"
            }
          },
          "metadata": {},
          "execution_count": 10
        }
      ]
    },
    {
      "cell_type": "code",
      "source": [
        "#3 Function to Return the Square of Each Number\n",
        "\n",
        "def squares(numbers):\n",
        "    result = []\n",
        "    for n in numbers:\n",
        "        result.append(n * n)\n",
        "    return result\n",
        "print(squares([1, 2, 3, 4]))"
      ],
      "metadata": {
        "colab": {
          "base_uri": "https://localhost:8080/"
        },
        "id": "KO53jQK4K5R5",
        "outputId": "387f0f75-3d98-42d4-da79-93bfefa3e4d4"
      },
      "execution_count": 18,
      "outputs": [
        {
          "output_type": "stream",
          "name": "stdout",
          "text": [
            "[1, 4, 9, 16]\n"
          ]
        }
      ]
    },
    {
      "cell_type": "code",
      "source": [
        "#4 Function to Check if a Number is Prime (1–200)\n",
        "def is_prime(n):\n",
        "    if n < 2: return False\n",
        "    for i in range(2, int(n**0.5)+1):\n",
        "        if n % i == 0:\n",
        "            return False\n",
        "    return True\n",
        "print(is_prime(17))"
      ],
      "metadata": {
        "colab": {
          "base_uri": "https://localhost:8080/"
        },
        "id": "1wi6VGeRSocF",
        "outputId": "a4db9bc2-5b8a-4d79-e1fa-b40177d96b9e"
      },
      "execution_count": 29,
      "outputs": [
        {
          "output_type": "stream",
          "name": "stdout",
          "text": [
            "True\n"
          ]
        }
      ]
    },
    {
      "cell_type": "code",
      "source": [
        "#5 Fibonacci Iterator Class\n",
        "class Fibonacci:\n",
        "    def __init__(self, terms):\n",
        "        self.a, self.b, self.n = 0, 1, 0\n",
        "        self.terms = terms\n",
        "    def __iter__(self):\n",
        "        return self\n",
        "    def __next__(self):\n",
        "        if self.n >= self.terms:\n",
        "            raise StopIteration\n",
        "        value = self.a\n",
        "        self.a, self.b = self.b, self.a + self.b\n",
        "        self.n += 1\n",
        "        return value\n",
        "fib = Fibonacci(10)\n",
        "for num in fib:\n",
        "    print(num, end=' ')\n"
      ],
      "metadata": {
        "colab": {
          "base_uri": "https://localhost:8080/"
        },
        "id": "0Q4seSnMZYjY",
        "outputId": "5c303187-2e04-41d5-c506-b3dd90592802"
      },
      "execution_count": 33,
      "outputs": [
        {
          "output_type": "stream",
          "name": "stdout",
          "text": [
            "0 1 1 2 3 5 8 13 21 34 "
          ]
        }
      ]
    },
    {
      "cell_type": "code",
      "source": [
        "#6 Generator to Yield Powers of 2\n",
        "def powers_of_2(n):\n",
        "    for i in range(n):\n",
        "        yield 2 ** i\n",
        "for power in powers_of_2(5):\n",
        "    print(power)"
      ],
      "metadata": {
        "colab": {
          "base_uri": "https://localhost:8080/"
        },
        "id": "WfblLjbJaGwE",
        "outputId": "5c5ed9f1-7ed1-4e50-d0c2-6fce435dc97e"
      },
      "execution_count": 34,
      "outputs": [
        {
          "output_type": "stream",
          "name": "stdout",
          "text": [
            "1\n",
            "2\n",
            "4\n",
            "8\n",
            "16\n"
          ]
        }
      ]
    },
    {
      "cell_type": "code",
      "source": [
        "#7  Generator to Read File Line by Line\n",
        "def read_lines(filename):\n",
        "    with open(filename, 'r') as f:\n",
        "        for line in f:\n",
        "            yield line.strip()\n",
        "for line in read_lines('file.txt'):\n",
        "    print(line)"
      ],
      "metadata": {
        "id": "SaBLNtXtayRr"
      },
      "execution_count": null,
      "outputs": []
    },
    {
      "cell_type": "code",
      "source": [
        "#8 Lambda to Sort by Second Element of Tuple\n",
        "data = [(1, 2), (3, 1), (2, 4)]\n",
        "sorted_data = sorted(data, key=lambda x: x[1])\n",
        "print(sorted_data)"
      ],
      "metadata": {
        "colab": {
          "base_uri": "https://localhost:8080/"
        },
        "id": "S4ey7gYfazSa",
        "outputId": "8d044dcb-ebaa-43ff-b794-337d84a14918"
      },
      "execution_count": 38,
      "outputs": [
        {
          "output_type": "stream",
          "name": "stdout",
          "text": [
            "[(3, 1), (1, 2), (2, 4)]\n"
          ]
        }
      ]
    },
    {
      "cell_type": "code",
      "source": [
        "#9 map() to Convert Temperatures from Celsius to Fahrenheit\n",
        "celsius_temps = [0, 10, 20, 30]\n",
        "fahrenheit_temps = list(map(lambda x: (x * 9/5) + 32, celsius_temps))\n",
        "print(fahrenheit_temps)"
      ],
      "metadata": {
        "colab": {
          "base_uri": "https://localhost:8080/"
        },
        "id": "i3Fub4hmbApy",
        "outputId": "2be8084c-5762-4cad-ad6a-60235416adac"
      },
      "execution_count": 39,
      "outputs": [
        {
          "output_type": "stream",
          "name": "stdout",
          "text": [
            "[32.0, 50.0, 68.0, 86.0]\n"
          ]
        }
      ]
    },
    {
      "cell_type": "code",
      "source": [
        "#10 filter() to Remove Vowels from a String\n",
        "def remove_vowels(string):\n",
        "    vowels = 'aeiouAEIOU'\n",
        "    return ''.join(filter(lambda x: x not in vowels, string))\n",
        "print(remove_vowels('Hello, World!'))"
      ],
      "metadata": {
        "colab": {
          "base_uri": "https://localhost:8080/"
        },
        "id": "wE9nBq0sbHBV",
        "outputId": "bd9ee4d2-4694-4955-bd81-55aa0c5c9fb6"
      },
      "execution_count": 40,
      "outputs": [
        {
          "output_type": "stream",
          "name": "stdout",
          "text": [
            "Hll, Wrld!\n"
          ]
        }
      ]
    },
    {
      "cell_type": "code",
      "source": [
        "#11 Bookshop Accounting Routine with Lambda and Map\n",
        "orders = [\n",
        "    [34587, 'Learning Python', 4, 40.95],\n",
        "    [98762, 'Programming Python', 5, 56.80],\n",
        "    [77226, 'Head First Python', 3, 32.95],\n",
        "    [88112, 'Einführung in Python3', 3, 24.99]\n",
        "]\n",
        "\n",
        "result = list(map(\n",
        "    lambda order: (\n",
        "        order,\n",
        "        order*order if order*order >= 100 else order*order + 10\n",
        "    ),\n",
        "    orders\n",
        "))"
      ],
      "metadata": {
        "id": "OSYhGsPQbYGy"
      },
      "execution_count": null,
      "outputs": []
    }
  ]
}