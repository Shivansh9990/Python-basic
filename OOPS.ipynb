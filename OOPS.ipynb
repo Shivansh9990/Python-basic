{
  "nbformat": 4,
  "nbformat_minor": 0,
  "metadata": {
    "colab": {
      "provenance": []
    },
    "kernelspec": {
      "name": "python3",
      "display_name": "Python 3"
    },
    "language_info": {
      "name": "python"
    }
  },
  "cells": [
    {
      "cell_type": "markdown",
      "source": [
        "1. What is Object-Oriented Programming (OOP)?\n",
        "OOP is a programming paradigm based on the concept of objects that contain both data (attributes) and methods (functions). It helps in modular, reusable, and maintainable code.\n",
        "\n",
        "2. What is a class in OOP?\n",
        "A class is a blueprint for creating objects. It defines attributes (variables) and methods (functions) that the objects will have.\n",
        "\n",
        "3. What is an object in OOP?\n",
        "An object is an instance of a class. It represents a real-world entity with state (attributes) and behavior (methods).\n",
        "\n",
        "4. Difference between abstraction and encapsulation?\n",
        "\n",
        "Abstraction: Hides implementation details and shows only functionality (focus on what).\n",
        "\n",
        "Encapsulation: Wrapping data and methods together while restricting direct access (focus on how).\n",
        "\n",
        "5. What are dunder methods in Python?\n",
        "Dunder (double underscore) methods are special built-in methods like __init__, __str__, __add__ that give classes special behavior.\n",
        "\n",
        "6. Explain inheritance in OOP.\n",
        "Inheritance allows a class (child) to reuse attributes/methods from another class (parent).\n",
        "\n",
        "7. What is polymorphism in OOP?\n",
        "Polymorphism means same method name, different behavior depending on context (e.g., method overriding, operator overloading).\n",
        "\n",
        "8. How is encapsulation achieved in Python?\n",
        "By using private/protected attributes (_var, __var) and getter/setter methods.\n",
        "\n",
        "9. What is a constructor in Python?\n",
        "A constructor is the __init__ method that initializes object attributes when an object is created.\n",
        "\n",
        "10. What are class and static methods in Python?\n",
        "\n",
        "Class method (@classmethod) → Works with class variables, takes cls as first parameter.\n",
        "\n",
        "Static method (@staticmethod) → Independent utility method, does not use self or cls.\n",
        "\n",
        "11. What is method overloading in Python?\n",
        "Python does not support true method overloading, but it can be mimicked using default arguments or *args.\n",
        "\n",
        "12. What is method overriding in OOP?\n",
        "When a child class provides a new definition of a method that exists in its parent class.\n",
        "\n",
        "13. What is a property decorator in Python?\n",
        "@property allows a method to be accessed like an attribute (e.g., obj.value instead of obj.get_value()).\n",
        "\n",
        "14. Why is polymorphism important in OOP?\n",
        "It makes code more flexible, reusable, and easier to extend.\n",
        "\n",
        "15. What is an abstract class in Python?\n",
        "A class with abstract methods (declared but not implemented). Created using abc module. Cannot be instantiated.\n",
        "\n",
        "16. What are the advantages of OOP?\n",
        "\n",
        "Reusability\n",
        "\n",
        "Modularity\n",
        "\n",
        "Encapsulation (data security)\n",
        "\n",
        "Maintainability\n",
        "\n",
        "17. Difference between class variable and instance variable?\n",
        "\n",
        "Class variable → Shared across all objects (e.g., counter).\n",
        "\n",
        "Instance variable → Unique for each object (e.g., name).\n",
        "\n",
        "18. What is multiple inheritance in Python?\n",
        "A class can inherit from more than one parent class.\n",
        "\n",
        "19. Purpose of __str__ and __repr__ methods?\n",
        "\n",
        "__str__ → User-friendly string representation.\n",
        "\n",
        "__repr__ → Developer/debugging representation.\n",
        "\n",
        "20. Significance of super() function?\n",
        "super() is used to call parent class methods inside child class.\n",
        "\n",
        "21. Significance of __del__ method?\n",
        "It is a destructor, called when an object is deleted or garbage collected.\n",
        "\n",
        "22. Difference between @staticmethod and @classmethod?\n",
        "\n",
        "@staticmethod: No access to class or instance.\n",
        "\n",
        "@classmethod: Works with class-level data (cls).\n",
        "\n",
        "23. How does polymorphism work in Python with inheritance?\n",
        "Child classes override methods of parent class, and Python decides which method to call at runtime.\n",
        "\n",
        "24. What is method chaining in Python OOP?\n",
        "Calling multiple methods in a single line by returning self.\n",
        "\n",
        "25. Purpose of __call__ method in Python?\n",
        "It allows an object to be called like a function."
      ],
      "metadata": {
        "id": "_T4na4Z3V3vf"
      }
    },
    {
      "cell_type": "code",
      "execution_count": 1,
      "metadata": {
        "colab": {
          "base_uri": "https://localhost:8080/"
        },
        "id": "pXqXDX8VV1av",
        "outputId": "8d114230-7a43-49d1-a7f2-ca0b1322361e"
      },
      "outputs": [
        {
          "output_type": "stream",
          "name": "stdout",
          "text": [
            "Bark!\n"
          ]
        }
      ],
      "source": [
        "#1. Animal → Dog (method overriding)\n",
        "class Animal:\n",
        "    def speak(self):\n",
        "        print(\"Generic animal sound\")\n",
        "\n",
        "class Dog(Animal):\n",
        "    def speak(self):\n",
        "        print(\"Bark!\")\n",
        "\n",
        "# Example\n",
        "d = Dog()\n",
        "d.speak()\n"
      ]
    },
    {
      "cell_type": "code",
      "source": [
        "#2. Abstract Shape → Circle, Rectangle\n",
        "from abc import ABC, abstractmethod\n",
        "import math\n",
        "\n",
        "class Shape(ABC):\n",
        "    @abstractmethod\n",
        "    def area(self):\n",
        "        pass\n",
        "\n",
        "class Circle(Shape):\n",
        "    def __init__(self, r):\n",
        "        self.r = r\n",
        "    def area(self):\n",
        "        return math.pi * self.r * self.r\n",
        "\n",
        "class Rectangle(Shape):\n",
        "    def __init__(self, l, b):\n",
        "        self.l = l\n",
        "        self.b = b\n",
        "    def area(self):\n",
        "        return self.l * self.b\n",
        "\n",
        "# Example\n",
        "c = Circle(5)\n",
        "r = Rectangle(4, 6)\n",
        "print(\"Circle Area:\", c.area())\n",
        "print(\"Rectangle Area:\", r.area())\n"
      ],
      "metadata": {
        "colab": {
          "base_uri": "https://localhost:8080/"
        },
        "id": "Gl4-pnCvWRTv",
        "outputId": "558192ef-032f-468d-ae27-d8bf3c93b118"
      },
      "execution_count": 2,
      "outputs": [
        {
          "output_type": "stream",
          "name": "stdout",
          "text": [
            "Circle Area: 78.53981633974483\n",
            "Rectangle Area: 24\n"
          ]
        }
      ]
    },
    {
      "cell_type": "code",
      "source": [
        "#3. Multi-level inheritance (Vehicle → Car → ElectricCar)\n",
        "class Vehicle:\n",
        "    def __init__(self, type_):\n",
        "        self.type = type_\n",
        "\n",
        "class Car(Vehicle):\n",
        "    def __init__(self, type_, model):\n",
        "        super().__init__(type_)\n",
        "        self.model = model\n",
        "\n",
        "class ElectricCar(Car):\n",
        "    def __init__(self, type_, model, battery):\n",
        "        super().__init__(type_, model)\n",
        "        self.battery = battery\n",
        "\n",
        "# Example\n",
        "e = ElectricCar(\"Four Wheeler\", \"Tesla\", \"100 kWh\")\n",
        "print(e.type, e.model, e.battery)\n"
      ],
      "metadata": {
        "colab": {
          "base_uri": "https://localhost:8080/"
        },
        "id": "mMm250WOWcW9",
        "outputId": "5bd132f1-49bb-4aa7-d865-3d0053df8e27"
      },
      "execution_count": 3,
      "outputs": [
        {
          "output_type": "stream",
          "name": "stdout",
          "text": [
            "Four Wheeler Tesla 100 kWh\n"
          ]
        }
      ]
    },
    {
      "cell_type": "code",
      "source": [
        "#4. Bird polymorphism (Sparrow, Penguin)\n",
        "class Bird:\n",
        "    def fly(self):\n",
        "        print(\"Bird is flying\")\n",
        "\n",
        "class Sparrow(Bird):\n",
        "    def fly(self):\n",
        "        print(\"Sparrow flies high\")\n",
        "\n",
        "class Penguin(Bird):\n",
        "    def fly(self):\n",
        "        print(\"Penguins can’t fly\")\n",
        "\n",
        "# Example\n",
        "for b in [Sparrow(), Penguin()]:\n",
        "    b.fly()\n"
      ],
      "metadata": {
        "colab": {
          "base_uri": "https://localhost:8080/"
        },
        "id": "CRg5--RuWhgv",
        "outputId": "0641fb01-4454-441d-bb42-7c00a35e3136"
      },
      "execution_count": 4,
      "outputs": [
        {
          "output_type": "stream",
          "name": "stdout",
          "text": [
            "Sparrow flies high\n",
            "Penguins can’t fly\n"
          ]
        }
      ]
    },
    {
      "cell_type": "code",
      "source": [
        "#5. Encapsulation (BankAccount)\n",
        "class BankAccount:\n",
        "    def __init__(self, balance=0):\n",
        "        self.__balance = balance\n",
        "\n",
        "    def deposit(self, amount):\n",
        "        self.__balance += amount\n",
        "\n",
        "    def withdraw(self, amount):\n",
        "        if amount <= self.__balance:\n",
        "            self.__balance -= amount\n",
        "        else:\n",
        "            print(\"Insufficient funds\")\n",
        "\n",
        "    def get_balance(self):\n",
        "        return self.__balance\n",
        "\n",
        "# Example\n",
        "acc = BankAccount(1000)\n",
        "acc.deposit(500)\n",
        "acc.withdraw(200)\n",
        "print(\"Balance:\", acc.get_balance())\n",
        "\n"
      ],
      "metadata": {
        "colab": {
          "base_uri": "https://localhost:8080/"
        },
        "id": "fNrba5kCWnlP",
        "outputId": "f90bedb4-0a3e-4df2-f1c3-a01587b3f7c4"
      },
      "execution_count": 5,
      "outputs": [
        {
          "output_type": "stream",
          "name": "stdout",
          "text": [
            "Balance: 1300\n"
          ]
        }
      ]
    },
    {
      "cell_type": "code",
      "source": [
        "#6. Runtime polymorphism (Instrument → Guitar, Piano)\n",
        "class Instrument:\n",
        "    def play(self):\n",
        "        print(\"Instrument is playing\")\n",
        "\n",
        "class Guitar(Instrument):\n",
        "    def play(self):\n",
        "        print(\"Strumming the guitar\")\n",
        "\n",
        "class Piano(Instrument):\n",
        "    def play(self):\n",
        "        print(\"Playing the piano\")\n",
        "\n",
        "# Example\n",
        "for i in [Guitar(), Piano()]:\n",
        "    i.play()\n"
      ],
      "metadata": {
        "colab": {
          "base_uri": "https://localhost:8080/"
        },
        "id": "qLftbXmJWvt4",
        "outputId": "69c0517b-ef9c-4b69-f674-3dc6e525c848"
      },
      "execution_count": 6,
      "outputs": [
        {
          "output_type": "stream",
          "name": "stdout",
          "text": [
            "Strumming the guitar\n",
            "Playing the piano\n"
          ]
        }
      ]
    },
    {
      "cell_type": "code",
      "source": [
        "#7. MathOperations (class & static methods)\n",
        "class MathOperations:\n",
        "    @classmethod\n",
        "    def add_numbers(cls, a, b):\n",
        "        return a + b\n",
        "\n",
        "    @staticmethod\n",
        "    def subtract_numbers(a, b):\n",
        "        return a - b\n",
        "\n",
        "# Example\n",
        "print(\"Add:\", MathOperations.add_numbers(5, 3))\n",
        "print(\"Subtract:\", MathOperations.subtract_numbers(10, 4))\n"
      ],
      "metadata": {
        "colab": {
          "base_uri": "https://localhost:8080/"
        },
        "id": "6G9XZ33ZW2LV",
        "outputId": "c3af63f2-69b0-423d-e01f-8583aa6209a9"
      },
      "execution_count": 7,
      "outputs": [
        {
          "output_type": "stream",
          "name": "stdout",
          "text": [
            "Add: 8\n",
            "Subtract: 6\n"
          ]
        }
      ]
    },
    {
      "cell_type": "code",
      "source": [
        "#8. Person count (class method)\n",
        "class Person:\n",
        "    count = 0\n",
        "\n",
        "    def __init__(self):\n",
        "        Person.count += 1\n",
        "\n",
        "    @classmethod\n",
        "    def get_count(cls):\n",
        "        return cls.count\n",
        "\n",
        "# Example\n",
        "p1 = Person()\n",
        "p2 = Person()\n",
        "print(\"Total persons:\", Person.get_count())\n"
      ],
      "metadata": {
        "colab": {
          "base_uri": "https://localhost:8080/"
        },
        "id": "Ljle88HEW_AE",
        "outputId": "10fb8506-cb46-4d05-e3cf-a170f21d1e77"
      },
      "execution_count": 8,
      "outputs": [
        {
          "output_type": "stream",
          "name": "stdout",
          "text": [
            "Total persons: 2\n"
          ]
        }
      ]
    },
    {
      "cell_type": "code",
      "source": [
        "#9. Fraction class (__str__)\n",
        "class Fraction:\n",
        "    def __init__(self, num, den):\n",
        "        self.num = num\n",
        "        self.den = den\n",
        "\n",
        "    def __str__(self):\n",
        "        return f\"{self.num}/{self.den}\"\n",
        "\n",
        "# Example\n",
        "f = Fraction(3, 4)\n",
        "print(f)\n"
      ],
      "metadata": {
        "colab": {
          "base_uri": "https://localhost:8080/"
        },
        "id": "fHZoN4eAXDqq",
        "outputId": "f5e98143-c3b0-4fb6-ca49-8e160de5e284"
      },
      "execution_count": 9,
      "outputs": [
        {
          "output_type": "stream",
          "name": "stdout",
          "text": [
            "3/4\n"
          ]
        }
      ]
    },
    {
      "cell_type": "code",
      "source": [
        "#10. Vector (operator overloading)\n",
        "class Vector:\n",
        "    def __init__(self, x, y):\n",
        "        self.x = x\n",
        "        self.y = y\n",
        "\n",
        "    def __add__(self, other):\n",
        "        return Vector(self.x + other.x, self.y + other.y)\n",
        "\n",
        "    def __str__(self):\n",
        "        return f\"({self.x}, {self.y})\"\n",
        "\n",
        "# Example\n",
        "v1 = Vector(2, 3)\n",
        "v2 = Vector(4, 5)\n",
        "print(v1 + v2)\n"
      ],
      "metadata": {
        "colab": {
          "base_uri": "https://localhost:8080/"
        },
        "id": "WuMDzPLeXJAm",
        "outputId": "5ebc856b-0696-4d33-966b-4a832a0566d0"
      },
      "execution_count": 10,
      "outputs": [
        {
          "output_type": "stream",
          "name": "stdout",
          "text": [
            "(6, 8)\n"
          ]
        }
      ]
    },
    {
      "cell_type": "code",
      "source": [
        "#11. Person greet()\n",
        "class Person:\n",
        "    def __init__(self, name, age):\n",
        "        self.name = name\n",
        "        self.age = age\n",
        "\n",
        "    def greet(self):\n",
        "        print(f\"Hello, my name is {self.name} and I am {self.age} years old.\")\n",
        "\n",
        "# Example\n",
        "p = Person(\"Shivansh\", 26)\n",
        "p.greet()\n"
      ],
      "metadata": {
        "colab": {
          "base_uri": "https://localhost:8080/"
        },
        "id": "3WRwrAgIXPyf",
        "outputId": "6ebb13b4-2ecc-446c-da44-95caf10b44cc"
      },
      "execution_count": 11,
      "outputs": [
        {
          "output_type": "stream",
          "name": "stdout",
          "text": [
            "Hello, my name is Shivansh and I am 26 years old.\n"
          ]
        }
      ]
    },
    {
      "cell_type": "code",
      "source": [
        "#12. Student average_grade()\n",
        "class Student:\n",
        "    def __init__(self, name, grades):\n",
        "        self.name = name\n",
        "        self.grades = grades\n",
        "\n",
        "    def average_grade(self):\n",
        "        return sum(self.grades) / len(self.grades)\n",
        "\n",
        "# Example\n",
        "s = Student(\"Aman\", [90, 80, 85])\n",
        "print(\"Average Grade:\", s.average_grade())\n"
      ],
      "metadata": {
        "colab": {
          "base_uri": "https://localhost:8080/"
        },
        "id": "RdrH1-1GXVbt",
        "outputId": "fe17a89e-cb00-4497-e13f-c2611220ad4b"
      },
      "execution_count": 12,
      "outputs": [
        {
          "output_type": "stream",
          "name": "stdout",
          "text": [
            "Average Grade: 85.0\n"
          ]
        }
      ]
    },
    {
      "cell_type": "code",
      "source": [
        "#13. Rectangle (set dimensions, area)\n",
        "class Rectangle:\n",
        "    def __init__(self):\n",
        "        self.l = 0\n",
        "        self.b = 0\n",
        "\n",
        "    def set_dimensions(self, l, b):\n",
        "        self.l = l\n",
        "        self.b = b\n",
        "\n",
        "    def area(self):\n",
        "        return self.l * self.b\n",
        "\n",
        "# Example\n",
        "r = Rectangle()\n",
        "r.set_dimensions(5, 4)\n",
        "print(\"Area:\", r.area())\n"
      ],
      "metadata": {
        "colab": {
          "base_uri": "https://localhost:8080/"
        },
        "id": "6I8x_2LMXZzl",
        "outputId": "cc39b474-875c-4568-d832-5fb35fcc76e5"
      },
      "execution_count": 13,
      "outputs": [
        {
          "output_type": "stream",
          "name": "stdout",
          "text": [
            "Area: 20\n"
          ]
        }
      ]
    },
    {
      "cell_type": "code",
      "source": [
        "#14. Employee → Manager (salary + bonus)\n",
        "class Employee:\n",
        "    def __init__(self, hours, rate):\n",
        "        self.hours = hours\n",
        "        self.rate = rate\n",
        "\n",
        "    def calculate_salary(self):\n",
        "        return self.hours * self.rate\n",
        "\n",
        "class Manager(Employee):\n",
        "    def __init__(self, hours, rate, bonus):\n",
        "        super().__init__(hours, rate)\n",
        "        self.bonus = bonus\n",
        "\n",
        "    def calculate_salary(self):\n",
        "        return super().calculate_salary() + self.bonus\n",
        "\n",
        "# Example\n",
        "m = Manager(40, 50, 1000)\n",
        "print(\"Manager Salary:\", m.calculate_salary())\n"
      ],
      "metadata": {
        "colab": {
          "base_uri": "https://localhost:8080/"
        },
        "id": "Q-3ty-DqXeL8",
        "outputId": "3eed493a-6c6d-4e44-d7c1-b4bc51479528"
      },
      "execution_count": 14,
      "outputs": [
        {
          "output_type": "stream",
          "name": "stdout",
          "text": [
            "Manager Salary: 3000\n"
          ]
        }
      ]
    },
    {
      "cell_type": "code",
      "source": [
        "#15. Product (total price)\n",
        "class Product:\n",
        "    def __init__(self, name, price, quantity):\n",
        "        self.name = name\n",
        "        self.price = price\n",
        "        self.quantity = quantity\n",
        "\n",
        "    def total_price(self):\n",
        "        return self.price * self.quantity\n",
        "\n",
        "# Example\n",
        "p = Product(\"Laptop\", 50000, 2)\n",
        "print(\"Total Price:\", p.total_price())\n"
      ],
      "metadata": {
        "colab": {
          "base_uri": "https://localhost:8080/"
        },
        "id": "moryG2dGXiQK",
        "outputId": "7a40d9c2-ed62-4fd1-a171-02958349ad8b"
      },
      "execution_count": 15,
      "outputs": [
        {
          "output_type": "stream",
          "name": "stdout",
          "text": [
            "Total Price: 100000\n"
          ]
        }
      ]
    },
    {
      "cell_type": "code",
      "source": [
        "#16. Animal abstract (sound)\n",
        "from abc import ABC, abstractmethod\n",
        "\n",
        "class Animal(ABC):\n",
        "    @abstractmethod\n",
        "    def sound(self):\n",
        "        pass\n",
        "\n",
        "class Cow(Animal):\n",
        "    def sound(self):\n",
        "        return \"Moo\"\n",
        "\n",
        "class Sheep(Animal):\n",
        "    def sound(self):\n",
        "        return \"Baa\"\n",
        "\n",
        "# Example\n",
        "print(Cow().sound())\n",
        "print(Sheep().sound())\n"
      ],
      "metadata": {
        "colab": {
          "base_uri": "https://localhost:8080/"
        },
        "id": "bt1svr4MXlJF",
        "outputId": "51830dde-d4f0-456f-f4e9-d193efa1d944"
      },
      "execution_count": 16,
      "outputs": [
        {
          "output_type": "stream",
          "name": "stdout",
          "text": [
            "Moo\n",
            "Baa\n"
          ]
        }
      ]
    },
    {
      "cell_type": "code",
      "source": [
        "#17. Book class\n",
        "class Book:\n",
        "    def __init__(self, title, author, year_published):\n",
        "        self.title = title\n",
        "        self.author = author\n",
        "        self.year_published = year_published\n",
        "\n",
        "    def get_book_info(self):\n",
        "        return f\"{self.title} by {self.author} ({self.year_published})\"\n",
        "\n",
        "# Example\n",
        "b = Book(\"The Alchemist\", \"Paulo Coelho\", 1988)\n",
        "print(b.get_book_info())\n"
      ],
      "metadata": {
        "colab": {
          "base_uri": "https://localhost:8080/"
        },
        "id": "56wSDjvhXsKn",
        "outputId": "efd73c3d-d331-4ac3-f201-1687be1f5ab4"
      },
      "execution_count": 17,
      "outputs": [
        {
          "output_type": "stream",
          "name": "stdout",
          "text": [
            "The Alchemist by Paulo Coelho (1988)\n"
          ]
        }
      ]
    },
    {
      "cell_type": "code",
      "source": [
        "#18. House → Mansion\n",
        "class House:\n",
        "    def __init__(self, address, price):\n",
        "        self.address = address\n",
        "        self.price = price\n",
        "\n",
        "class Mansion(House):\n",
        "    def __init__(self, address, price, number_of_rooms):\n",
        "        super().__init__(address, price)\n",
        "        self.number_of_rooms = number_of_rooms\n",
        "\n",
        "# Example\n",
        "m = Mansion(\"123 Street, NY\", 2000000, 10)\n",
        "print(f\"Address: {m.address}, Price: {m.price}, Rooms: {m.number_of_rooms}\")\n"
      ],
      "metadata": {
        "colab": {
          "base_uri": "https://localhost:8080/"
        },
        "id": "PXSFjlM6XztK",
        "outputId": "aacf0ba4-9ef6-48cb-bc8f-af85eee58162"
      },
      "execution_count": 18,
      "outputs": [
        {
          "output_type": "stream",
          "name": "stdout",
          "text": [
            "Address: 123 Street, NY, Price: 2000000, Rooms: 10\n"
          ]
        }
      ]
    }
  ]
}