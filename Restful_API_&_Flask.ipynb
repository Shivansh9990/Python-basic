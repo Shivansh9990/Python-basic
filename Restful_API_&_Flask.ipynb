{
  "nbformat": 4,
  "nbformat_minor": 0,
  "metadata": {
    "colab": {
      "provenance": []
    },
    "kernelspec": {
      "name": "python3",
      "display_name": "Python 3"
    },
    "language_info": {
      "name": "python"
    }
  },
  "cells": [
    {
      "cell_type": "markdown",
      "source": [
        "1. What is a RESTful API?\n",
        "\n",
        "A RESTful API is an interface that allows communication between client and server using REST principles. It uses HTTP methods (GET, POST, PUT, DELETE) to perform CRUD operations and returns data usually in JSON format.\n",
        "\n",
        "2. Explain the concept of API specification\n",
        "\n",
        "An API specification is a detailed contract that defines how clients and servers interact. It includes:\n",
        "\n",
        "Endpoints (URLs)\n",
        "\n",
        "HTTP methods\n",
        "\n",
        "Input/output formats\n",
        "\n",
        "Authentication methods\n",
        "Examples: OpenAPI (Swagger), RAML.\n",
        "\n",
        "3. What is Flask, and why is it popular for building APIs?\n",
        "\n",
        "Flask is a lightweight Python web framework.\n",
        "Popular because:\n",
        "\n",
        "Minimal and flexible\n",
        "\n",
        "Built-in development server\n",
        "\n",
        "Easy routing\n",
        "\n",
        "Supports extensions (Flask-RESTful, Flask-SQLAlchemy)\n",
        "\n",
        "Suitable for quick API development.\n",
        "\n",
        "4. What is routing in Flask?\n",
        "\n",
        "Routing means mapping URLs to functions. In Flask, this is done using @app.route().\n",
        "\n",
        "5. How do you create a simple Flask application?\n",
        "from flask import Flask\n",
        "app = Flask(__name__)\n",
        "\n",
        "@app.route('/')\n",
        "def home():\n",
        "    return \"Hello, Flask!\"\n",
        "\n",
        "if __name__ == \"__main__\":\n",
        "    app.run(debug=True)\n",
        "\n",
        "6. What are HTTP methods used in RESTful APIs?\n",
        "\n",
        "GET → Retrieve data\n",
        "\n",
        "POST → Create data\n",
        "\n",
        "PUT → Update data\n",
        "\n",
        "DELETE → Remove data\n",
        "\n",
        "PATCH → Partial update\n",
        "\n",
        "OPTIONS → Check supported methods\n",
        "\n",
        "7. What is the purpose of the @app.route() decorator in Flask?\n",
        "\n",
        "It binds a URL to a function, so when the URL is requested, the function executes.\n",
        "\n",
        "8. Difference between GET and POST HTTP methods\n",
        "\n",
        "GET → Data sent in URL, used for fetching, not secure.\n",
        "\n",
        "POST → Data sent in body, used for creating/modifying, more secure.\n",
        "\n",
        "9. How do you handle errors in Flask APIs?\n",
        "\n",
        "Using @app.errorhandler() or abort().\n",
        "\n",
        "from flask import abort\n",
        "\n",
        "@app.errorhandler(404)\n",
        "def not_found(e):\n",
        "    return {\"error\": \"Not Found\"}, 404\n",
        "\n",
        "10. How do you connect Flask to a SQL database?\n",
        "\n",
        "Using Flask-SQLAlchemy:\n",
        "\n",
        "from flask_sqlalchemy import SQLAlchemy\n",
        "app.config['SQLALCHEMY_DATABASE_URI'] = 'sqlite:///test.db'\n",
        "db = SQLAlchemy(app)\n",
        "\n",
        "11. What is the role of Flask-SQLAlchemy?\n",
        "\n",
        "It provides an ORM (Object Relational Mapping) for interacting with databases easily.\n",
        "\n",
        "12. What are Flask blueprints, and how are they useful?\n",
        "\n",
        "Blueprints allow you to organize large applications into modules (e.g., auth, users, products). They support modular development.\n",
        "\n",
        "13. What is the purpose of Flask's request object?\n",
        "\n",
        "request holds all incoming request data like:\n",
        "\n",
        "Form data\n",
        "\n",
        "Query parameters\n",
        "\n",
        "JSON body\n",
        "\n",
        "Headers\n",
        "\n",
        "14. How do you create a RESTful API endpoint using Flask?\n",
        "@app.route('/api/data', methods=['GET'])\n",
        "def get_data():\n",
        "    return {\"message\": \"Data fetched successfully\"}\n",
        "\n",
        "15. What is the purpose of Flask's jsonify() function?\n",
        "\n",
        "Converts Python dictionaries/lists into JSON response.\n",
        "\n",
        "from flask import jsonify\n",
        "return jsonify({\"status\": \"ok\"})\n",
        "\n",
        "16. Explain Flask’s url_for() function\n",
        "\n",
        "Generates URLs dynamically for functions.\n",
        "\n",
        "url_for('home')  # returns \"/\"\n",
        "\n",
        "17. How does Flask handle static files (CSS, JavaScript, etc.)?\n",
        "\n",
        "Flask serves them from the /static/ folder.\n",
        "Example: /static/style.css.\n",
        "\n",
        "18. What is an API specification, and how does it help in building a Flask API?\n",
        "\n",
        "(Already covered in Q2) – It helps by standardizing endpoints, input/output, and documentation.\n",
        "\n",
        "19. What are HTTP status codes, and why are they important in a Flask API?\n",
        "\n",
        "Codes indicate request results:\n",
        "\n",
        "200 OK → Success\n",
        "\n",
        "201 Created → New resource added\n",
        "\n",
        "400 Bad Request → Invalid input\n",
        "\n",
        "404 Not Found → Missing resource\n",
        "\n",
        "500 Internal Server Error → Server issue\n",
        "\n",
        "They help clients understand responses.\n",
        "\n",
        "20. How do you handle POST requests in Flask?\n",
        "@app.route('/submit', methods=['POST'])\n",
        "def submit():\n",
        "    data = request.json\n",
        "    return {\"received\": data}\n",
        "\n",
        "21. How would you secure a Flask API?\n",
        "\n",
        "Use authentication (JWT, OAuth)\n",
        "\n",
        "HTTPS\n",
        "\n",
        "Input validation\n",
        "\n",
        "Rate limiting\n",
        "\n",
        "Role-based access control\n",
        "\n",
        "22. What is the significance of the Flask-RESTful extension?\n",
        "\n",
        "Flask-RESTful makes it easier to build REST APIs by providing:\n",
        "\n",
        "Resource classes\n",
        "\n",
        "Automatic request parsing\n",
        "\n",
        "Better response formatting\n",
        "\n",
        "23. What is the role of Flask’s session object?\n",
        "\n",
        "Stores user-specific data (like login info) across requests using cookies."
      ],
      "metadata": {
        "id": "Q4kkyFWYqyjx"
      }
    },
    {
      "cell_type": "code",
      "source": [
        "#1 Creating a Basic Flask Application\n",
        "\n",
        "from flask import Flask\n",
        "app = Flask(__name__)\n",
        "\n",
        "@app.route(\"/\")\n",
        "def home():\n",
        "    return \"Hello, Flask!\""
      ],
      "metadata": {
        "id": "gSW6Wekkq1qm"
      },
      "execution_count": 2,
      "outputs": []
    },
    {
      "cell_type": "code",
      "source": [
        "#2 Serving Static Files (images, CSS)\n",
        "#Place files in the static folder. Access with /static/filename.ext. Example for an image:\n",
        "\n",
        "<img src=\"{{ url_for('static', filename='image.jpg') }}\">"
      ],
      "metadata": {
        "id": "55zzfguVrLeB"
      },
      "execution_count": null,
      "outputs": []
    },
    {
      "cell_type": "code",
      "source": [
        "#3 Defining Different Routes with HTTP Methods\n",
        "\n",
        "@app.route(\"/item\", methods=[\"GET\", \"POST\"])\n",
        "def item():\n",
        "    if request.method == \"GET\":\n",
        "        return \"GET response\"\n",
        "    elif request.method == \"POST\":\n",
        "        return \"POST response\""
      ],
      "metadata": {
        "id": "lZtmtzP_rSmR"
      },
      "execution_count": 3,
      "outputs": []
    },
    {
      "cell_type": "code",
      "source": [
        "#4 Rendering HTML Templates\n",
        "\n",
        "from flask import render_template\n",
        "\n",
        "@app.route(\"/\")\n",
        "def index():\n",
        "    return render_template(\"index.html\")"
      ],
      "metadata": {
        "id": "-yFAmkzSrY53"
      },
      "execution_count": 4,
      "outputs": []
    },
    {
      "cell_type": "code",
      "source": [
        "# 5 Generating URLs with url_for\n",
        "\n",
        "url_for('index') # Generates URL for 'index' route\n",
        "url_for('profile', username='john') # For dynamic routes with parameters"
      ],
      "metadata": {
        "id": "M88SWRnOrcnp"
      },
      "execution_count": null,
      "outputs": []
    },
    {
      "cell_type": "markdown",
      "source": [],
      "metadata": {
        "id": "r1Oj-8MerOXp"
      }
    },
    {
      "cell_type": "code",
      "source": [
        "#6 Handling Forms\n",
        "\n",
        "@app.route('/form', methods=['GET', 'POST'])\n",
        "def form():\n",
        "    if request.method == 'POST':\n",
        "        name = request.form['name']\n",
        "        return f'Hello, {name}'\n",
        "    return render_template('form.html')"
      ],
      "metadata": {
        "id": "W9QWiZw6rhw8"
      },
      "execution_count": 5,
      "outputs": []
    },
    {
      "cell_type": "code",
      "source": [
        "#7 Validating Form Data\n",
        "\n",
        "@app.route('/validate', methods=['POST'])\n",
        "def validate():\n",
        "    errors = []\n",
        "    if not request.form.get('email'):\n",
        "        errors.append('Email required')\n",
        "    # More validations...\n",
        "    return render_template('validate.html', errors=errors)"
      ],
      "metadata": {
        "id": "2ZfiJt41rmA2"
      },
      "execution_count": 6,
      "outputs": []
    },
    {
      "cell_type": "code",
      "source": [
        "#8 Managing Sessions\n",
        "\n",
        "from flask import session\n",
        "\n",
        "@app.route('/login', methods=['POST'])\n",
        "def login():\n",
        "    session['user'] = request.form['username']\n",
        "    return redirect(url_for('index'))"
      ],
      "metadata": {
        "id": "R7f2qRmvrpYk"
      },
      "execution_count": 7,
      "outputs": []
    },
    {
      "cell_type": "code",
      "source": [
        "#9 Redirecting to a Different Route\n",
        "\n",
        "from flask import redirect, url_for\n",
        "\n",
        "@app.route('/go-home')\n",
        "def go_home():\n",
        "    return redirect(url_for('home'))"
      ],
      "metadata": {
        "id": "gdoIRUoTrsQE"
      },
      "execution_count": 8,
      "outputs": []
    },
    {
      "cell_type": "code",
      "source": [
        "#10 Handling Errors (e.g., 404)\n",
        "\n",
        "@app.errorhandler(404)\n",
        "def not_found(error):\n",
        "    return render_template('404.html'), 404"
      ],
      "metadata": {
        "id": "-COTqY_1rvOZ"
      },
      "execution_count": 9,
      "outputs": []
    },
    {
      "cell_type": "code",
      "source": [
        "#11 Structuring an App Using Blueprints\n",
        "\n",
        "from flask import Blueprint\n",
        "\n",
        "bp = Blueprint('bp', __name__)\n",
        "\n",
        "@bp.route('/hello')\n",
        "def hello():\n",
        "    return \"Hello from blueprint!\"\n",
        "\n",
        "# Register blueprint in main app\n",
        "app.register_blueprint(bp)"
      ],
      "metadata": {
        "id": "HkGoPC0NryN0"
      },
      "execution_count": 10,
      "outputs": []
    },
    {
      "cell_type": "code",
      "source": [
        "# 12 Defining a Custom Jinja Filter\n",
        "\n",
        "def reverse_string(s):\n",
        "    return s[::-1]\n",
        "\n",
        "app.jinja_env.filters['reverse'] = reverse_string"
      ],
      "metadata": {
        "id": "GJCWl6Lzr1zU"
      },
      "execution_count": 11,
      "outputs": []
    },
    {
      "cell_type": "code",
      "source": [
        "#13 Redirecting with Query Parameters\n",
        "\n",
        "return redirect(url_for('profile', username='john', page=2))"
      ],
      "metadata": {
        "id": "imB2Bli1r_g8"
      },
      "execution_count": null,
      "outputs": []
    },
    {
      "cell_type": "code",
      "source": [
        "#14 Returning JSON Responses\n",
        "\n",
        "from flask import jsonify\n",
        "\n",
        "@app.route(\"/api\")\n",
        "def api():\n",
        "    return jsonify({\"status\": \"success\"})"
      ],
      "metadata": {
        "id": "R_WljMgmsAAP"
      },
      "execution_count": 13,
      "outputs": []
    },
    {
      "cell_type": "code",
      "source": [
        "#15 Capturing URL Parameters\n",
        "\n",
        "@app.route(\"/user/<username>\")\n",
        "def user_profile(username):\n",
        "    return f'User: {username}'"
      ],
      "metadata": {
        "id": "DaaeGyDhsDI4"
      },
      "execution_count": null,
      "outputs": []
    }
  ]
}